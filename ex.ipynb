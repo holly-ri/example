{
 "cells": [
  {
   "cell_type": "markdown",
   "metadata": {},
   "source": [
    "패턴 구성<br>\n",
    "문자나숫자 010-1111-3452<br>\n",
    "data -> 'honggildong34 010-111-2222'<br><br>\n",
    "\n",
    "DataFrame 4x4배열을 만들어 모든 값을 5로 넣기<br>\n",
    "DataFrame 5x5배열을 만들어 모든 값을 1로 넣기<br>\n",
    "2개의 데이터프레임을 NaN값들은 2로 대체하여 더하기<br><br>\n",
    "\n",
    "\n",
    "거래처 데이터<br>\n",
    "df = DataFrame({'거래처':['company','company1','company2','company3','company4'],<br>\n",
    "          '주문량':[5000,12530,6580,27280,12000],<br>\n",
    "          '할인율':[0.1, 0.5, 0.3, 0.7, 0.2]})<br>\n",
    "의 주문량의 합계 구하기<br>\n",
    "주문량의 평균 구하기<br>\n",
    "주문량x할인율 구하기"
   ]
  }
 ],
 "metadata": {
  "kernelspec": {
   "display_name": "Python 3",
   "language": "python",
   "name": "python3"
  },
  "language_info": {
   "codemirror_mode": {
    "name": "ipython",
    "version": 3
   },
   "file_extension": ".py",
   "mimetype": "text/x-python",
   "name": "python",
   "nbconvert_exporter": "python",
   "pygments_lexer": "ipython3",
   "version": "3.8.5"
  }
 },
 "nbformat": 4,
 "nbformat_minor": 4
}
